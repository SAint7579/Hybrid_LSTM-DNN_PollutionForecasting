{
 "cells": [
  {
   "cell_type": "code",
   "execution_count": 1,
   "metadata": {
    "collapsed": true
   },
   "outputs": [],
   "source": [
    "import pandas as pd\n",
    "import matplotlib.pyplot as plt\n",
    "import numpy as np\n",
    "from datetime import datetime\n",
    "%matplotlib inline"
   ]
  },
  {
   "cell_type": "markdown",
   "metadata": {},
   "source": [
    "# Data preprocessing \n",
    "## Data preparation:\n",
    "* Fix NA values\n",
    "* Parse date-time into pandas dataframe index\n",
    "* Specified clear names for each columns"
   ]
  },
  {
   "cell_type": "code",
   "execution_count": 413,
   "metadata": {
    "collapsed": true
   },
   "outputs": [],
   "source": [
    "def parse(x):\n",
    "\treturn datetime.strptime(x, '%Y %m %d %H')"
   ]
  },
  {
   "cell_type": "code",
   "execution_count": 414,
   "metadata": {},
   "outputs": [
    {
     "name": "stdout",
     "output_type": "stream",
     "text": [
      "** DATA PROCESSING COMPLETED **\n"
     ]
    }
   ],
   "source": [
    "dataset = pd.read_csv('data_hrly.csv',  parse_dates = [['year', 'month', 'day', 'hour']], index_col=0, date_parser=parse)\n",
    "dataset.drop('No', axis=1, inplace=True)\n",
    "dataset.columns = ['pollution', 'dew', 'temp', 'press', 'wnd_dir', 'wnd_spd', 'snow', 'rain']\n",
    "dataset.index.name = 'date'\n",
    "dataset['pollution'].fillna(0, inplace=True)\n",
    "dataset = dataset[24:]\n",
    "print(\"** DATA PROCESSING COMPLETED **\")\n",
    "dataset.to_csv('pollution.csv')"
   ]
  },
  {
   "cell_type": "markdown",
   "metadata": {
    "collapsed": true
   },
   "source": [
    "# Importing and visualizing the data\n"
   ]
  },
  {
   "cell_type": "code",
   "execution_count": 415,
   "metadata": {},
   "outputs": [
    {
     "data": {
      "text/plain": [
       "<matplotlib.axes._subplots.AxesSubplot at 0x151178d0668>"
      ]
     },
     "execution_count": 415,
     "metadata": {},
     "output_type": "execute_result"
    },
    {
     "data": {
      "image/png": "[encoded data removed]",
      "text/plain": [
       "<matplotlib.figure.Figure at 0x150aca540f0>"
      ]
     },
     "metadata": {},
     "output_type": "display_data"
    }
   ],
   "source": [
    "dataset = pd.read_csv('pollution.csv',index_col='date')\n",
    "dataset['pollution'].plot()"
   ]
  },
  {
   "cell_type": "code",
   "execution_count": 417,
   "metadata": {
    "collapsed": true
   },
   "outputs": [],
   "source": [
    "from sklearn.preprocessing import MinMaxScaler,StandardScaler\n",
    "from sklearn.preprocessing import LabelEncoder,OneHotEncoder\n",
    "lbe = LabelEncoder()\n",
    "#One hot encoder for the wind direction\n",
    "ohe = OneHotEncoder(categorical_features=[4])\n",
    "pol_scaler = MinMaxScaler()\n",
    "wea_scaler = MinMaxScaler()"
   ]
  },
  {
   "cell_type": "code",
   "execution_count": 418,
   "metadata": {
    "scrolled": false
   },
   "outputs": [
    {
     "name": "stdout",
     "output_type": "stream",
     "text": [
      "Shape:  (43800, 10)\n"
     ]
    }
   ],
   "source": [
    "dataset = pd.read_csv('pollution.csv',index_col='date')\n",
    "dataset['wnd_dir'] = lbe.fit_transform(dataset['wnd_dir'])\n",
    "dataset= ohe.fit_transform(dataset).toarray()\n",
    "dataset = dataset[:,1:]\n",
    "#Creating dataset for RNN\n",
    "pollution_data = dataset[:,3]\n",
    "pollution_data =pol_scaler.fit_transform(pollution_data.reshape(-1,1))\n",
    "#Creating the dataset for DNN\n",
    "weather_data = wea_scaler.fit_transform(dataset[:,[0,1,2,4,5,6,7,8,9]])\n",
    "dataset = pd.read_csv('pollution.csv',index_col='date')"
   ]
  },
  {
   "cell_type": "markdown",
   "metadata": {},
   "source": [
    "# Splitting the data into train and test set"
   ]
  },
  {
   "cell_type": "code",
   "execution_count": 419,
   "metadata": {},
   "outputs": [],
   "source": [
    "#FOR RNN DATA\n",
    "training_set_rnn = pollution_data[:40000,:]\n",
    "training_set_dnn = weather_data[:40000,:]\n",
    "test_set_rnn = pollution_data[40000:,:]\n",
    "test_set_dnn = weather_data[40000:,:]"
   ]
  },
  {
   "cell_type": "code",
   "execution_count": 421,
   "metadata": {},
   "outputs": [],
   "source": [
    "def next_batch(training_data_rnn,training_data_dnn,steps):\n",
    "    \"\"\"\n",
    "    INPUT: Data(For RNN and DNN), Time Steps per batch\n",
    "    OUTPUT: Input batch for RNN and DNN at 't' and Output data (pollution) at 't+1'\n",
    "    \"\"\"\n",
    "    \n",
    "    # Randomly initializing the start point\n",
    "    ts_start = np.random.randint(low = 0, high = len(training_data_rnn)-steps)\n",
    "    # the random start to random start + steps + 1. Then reshape this data to be (1,steps+1)\n",
    "    y_batch_rnn = training_data_rnn[ts_start: ts_start + steps + 1]\n",
    "    y_batch_dnn = training_data_dnn[ts_start: ts_start + steps + 1]\n",
    "    # Values for RNN reshaped to (-1,steps,1)\n",
    "    return y_batch_rnn[:-1,:].reshape(-1,steps,1) , y_batch_dnn[:-1,:].reshape(steps,-1),y_batch_rnn[1:,:].reshape(-1,steps,1)\n",
    "    "
   ]
  },
  {
   "cell_type": "code",
   "execution_count": 422,
   "metadata": {
    "collapsed": true
   },
   "outputs": [],
   "source": [
    "import os\n",
    "#Setting up tensorflow on GPU\n",
    "os.environ['CUDA_VISIBLE_DEVICES'] = '0'\n",
    "import tensorflow as tf\n",
    "from nn_function import *"
   ]
  },
  {
   "cell_type": "code",
   "execution_count": 440,
   "metadata": {
    "collapsed": true
   },
   "outputs": [],
   "source": [
    "#Reseting the default global graph\n",
    "tf.reset_default_graph()"
   ]
  },
  {
   "cell_type": "markdown",
   "metadata": {},
   "source": [
    "# Creating the neural network"
   ]
  },
  {
   "cell_type": "code",
   "execution_count": 441,
   "metadata": {
    "collapsed": true
   },
   "outputs": [],
   "source": [
    "#Declarying the constants\n",
    "NUMBER_NEU = 128\n",
    "N_IP = 1\n",
    "N_OP = 1\n",
    "STEPS = 24*3\n",
    "LR = 0.0001\n",
    "#For 40k iterations\n",
    "ITER = 40000\n",
    "#Output neurons for the LSTM and DNN layers\n",
    "N_OUT =128"
   ]
  },
  {
   "cell_type": "code",
   "execution_count": 442,
   "metadata": {},
   "outputs": [],
   "source": [
    "#Placeholders for input batches\n",
    "x_rnn = tf.placeholder(dtype=tf.float32,shape=(None,None,N_IP))\n",
    "x_dnn = tf.placeholder(dtype=tf.float32,shape=(None,9))\n",
    "#Placeholders for output batches\n",
    "y= tf.placeholder(dtype=tf.float32,shape=(None,None,N_OP))\n",
    "#For dropout layers\n",
    "hold_proba = tf.placeholder(dtype=tf.float32)"
   ]
  },
  {
   "cell_type": "code",
   "execution_count": 443,
   "metadata": {},
   "outputs": [],
   "source": [
    "#Making the LSTM cell\n",
    "cell = dropout_wrapper(hold_proba,create_LSTM_cell(NUMBER_NEU))"
   ]
  },
  {
   "cell_type": "code",
   "execution_count": 444,
   "metadata": {},
   "outputs": [],
   "source": [
    "#RNN output\n",
    "output , states = create_RNN(cell,x_rnn)\n",
    "#Selecting the final output form the layer\n",
    "rnn_output = output[-1]\n",
    "#Connecting the output to a DNN layer\n",
    "lstm_fc_out = dnn_layer(rnn_output,N_OUT,name=\"LSTM_op\")\n",
    "lstm_fc_drop = tf.nn.dropout(lstm_fc_out, hold_proba,name=\"drop0\")"
   ]
  },
  {
   "cell_type": "code",
   "execution_count": 445,
   "metadata": {},
   "outputs": [],
   "source": [
    "#Making the dnn layers with the DNN data\n",
    "dnn_op = dnn_layer(x_dnn,N_FC_OUT)"
   ]
  },
  {
   "cell_type": "code",
   "execution_count": 446,
   "metadata": {},
   "outputs": [],
   "source": [
    "#Connecting/Concatenating the DNN and RNN layers\n",
    "connected_layer = tf.concat([dnn_op, lstm_fc_drop], axis=1,name=\"connected\")\n",
    "dropout_layer = tf.nn.dropout(connected_layer,hold_proba,name=\"drop1\")\n",
    "#Adding another DNN+dropout layer with relu activation\n",
    "connected_layer2 = tf.nn.relu(dnn_layer(dropout_layer,size=1024),name=\"dnn1\")\n",
    "dropout_layer2 = tf.nn.dropout(connected_layer2,hold_proba,name=\"drop2\")"
   ]
  },
  {
   "cell_type": "code",
   "execution_count": 447,
   "metadata": {},
   "outputs": [],
   "source": [
    "#Calculating the final output node with Sigmoid activation\n",
    "network_op = tf.sigmoid(dnn_layer(dropout_layer2,1),name=\"network_op\")"
   ]
  },
  {
   "cell_type": "code",
   "execution_count": 448,
   "metadata": {
    "collapsed": true
   },
   "outputs": [],
   "source": [
    "#Creating the MAE loss function\n",
    "loss = tf.reduce_mean(tf.abs(network_op-y))\n",
    "#Creating the optimizer and trainer\n",
    "optim = tf.train.AdamOptimizer(learning_rate=LR)\n",
    "train = optim.minimize(loss)"
   ]
  },
  {
   "cell_type": "code",
   "execution_count": 449,
   "metadata": {
    "collapsed": true
   },
   "outputs": [],
   "source": [
    "#Creating the varaible initializer and saver\n",
    "init = tf.global_variables_initializer()\n",
    "saver = tf.train.Saver()"
   ]
  },
  {
   "cell_type": "code",
   "execution_count": 454,
   "metadata": {
    "scrolled": true
   },
   "outputs": [
    {
     "name": "stdout",
     "output_type": "stream",
     "text": [
      "At step 0 \t\tMean Absolute Error (Train): 0.76322 \t\tMean Absolute Error (Test): 0.74816\n",
      "At step 100 \t\tMean Absolute Error (Train): 0.02558 \t\tMean Absolute Error (Test): 0.09713\n",
      "At step 200 \t\tMean Absolute Error (Train): 0.04010 \t\tMean Absolute Error (Test): 0.03719\n",
      "At step 300 \t\tMean Absolute Error (Train): 0.03993 \t\tMean Absolute Error (Test): 0.03018\n",
      "At step 400 \t\tMean Absolute Error (Train): 0.05782 \t\tMean Absolute Error (Test): 0.03485\n",
      "At step 500 \t\tMean Absolute Error (Train): 0.03192 \t\tMean Absolute Error (Test): 0.03537\n",
      "At step 600 \t\tMean Absolute Error (Train): 0.01928 \t\tMean Absolute Error (Test): 0.03481\n",
      "At step 700 \t\tMean Absolute Error (Train): 0.02608 \t\tMean Absolute Error (Test): 0.03118\n",
      "At step 800 \t\tMean Absolute Error (Train): 0.04196 \t\tMean Absolute Error (Test): 0.03354\n",
      "At step 900 \t\tMean Absolute Error (Train): 0.02490 \t\tMean Absolute Error (Test): 0.02352\n",
      "At step 1000 \t\tMean Absolute Error (Train): 0.01996 \t\tMean Absolute Error (Test): 0.02674\n",
      "At step 1100 \t\tMean Absolute Error (Train): 0.01680 \t\tMean Absolute Error (Test): 0.03188\n",
      "At step 1200 \t\tMean Absolute Error (Train): 0.02737 \t\tMean Absolute Error (Test): 0.02122\n",
      "At step 1300 \t\tMean Absolute Error (Train): 0.01375 \t\tMean Absolute Error (Test): 0.02587\n",
      "At step 1400 \t\tMean Absolute Error (Train): 0.01951 \t\tMean Absolute Error (Test): 0.01892\n",
      "At step 1500 \t\tMean Absolute Error (Train): 0.02947 \t\tMean Absolute Error (Test): 0.02572\n",
      "At step 1600 \t\tMean Absolute Error (Train): 0.02409 \t\tMean Absolute Error (Test): 0.02414\n",
      "At step 1700 \t\tMean Absolute Error (Train): 0.01249 \t\tMean Absolute Error (Test): 0.01924\n",
      "At step 1800 \t\tMean Absolute Error (Train): 0.01811 \t\tMean Absolute Error (Test): 0.02097\n",
      "At step 1900 \t\tMean Absolute Error (Train): 0.04962 \t\tMean Absolute Error (Test): 0.02288\n",
      "At step 2000 \t\tMean Absolute Error (Train): 0.01247 \t\tMean Absolute Error (Test): 0.02211\n",
      "At step 2100 \t\tMean Absolute Error (Train): 0.04839 \t\tMean Absolute Error (Test): 0.02114\n",
      "At step 2200 \t\tMean Absolute Error (Train): 0.01049 \t\tMean Absolute Error (Test): 0.02537\n",
      "At step 2300 \t\tMean Absolute Error (Train): 0.02289 \t\tMean Absolute Error (Test): 0.01631\n",
      "At step 2400 \t\tMean Absolute Error (Train): 0.01853 \t\tMean Absolute Error (Test): 0.02356\n",
      "At step 2500 \t\tMean Absolute Error (Train): 0.02017 \t\tMean Absolute Error (Test): 0.01732\n",
      "At step 2600 \t\tMean Absolute Error (Train): 0.01781 \t\tMean Absolute Error (Test): 0.02227\n",
      "At step 2700 \t\tMean Absolute Error (Train): 0.01785 \t\tMean Absolute Error (Test): 0.02250\n",
      "At step 2800 \t\tMean Absolute Error (Train): 0.01384 \t\tMean Absolute Error (Test): 0.02013\n",
      "At step 2900 \t\tMean Absolute Error (Train): 0.01094 \t\tMean Absolute Error (Test): 0.02097\n",
      "At step 3000 \t\tMean Absolute Error (Train): 0.03071 \t\tMean Absolute Error (Test): 0.01885\n",
      "At step 3100 \t\tMean Absolute Error (Train): 0.01017 \t\tMean Absolute Error (Test): 0.01483\n",
      "At step 3200 \t\tMean Absolute Error (Train): 0.01316 \t\tMean Absolute Error (Test): 0.01688\n",
      "At step 3300 \t\tMean Absolute Error (Train): 0.01491 \t\tMean Absolute Error (Test): 0.01424\n",
      "At step 3400 \t\tMean Absolute Error (Train): 0.00731 \t\tMean Absolute Error (Test): 0.01710\n",
      "At step 3500 \t\tMean Absolute Error (Train): 0.02259 \t\tMean Absolute Error (Test): 0.01931\n",
      "At step 3600 \t\tMean Absolute Error (Train): 0.01817 \t\tMean Absolute Error (Test): 0.01320\n",
      "At step 3700 \t\tMean Absolute Error (Train): 0.07540 \t\tMean Absolute Error (Test): 0.01487\n",
      "At step 3800 \t\tMean Absolute Error (Train): 0.01947 \t\tMean Absolute Error (Test): 0.01338\n",
      "At step 3900 \t\tMean Absolute Error (Train): 0.00961 \t\tMean Absolute Error (Test): 0.02020\n",
      "At step 4000 \t\tMean Absolute Error (Train): 0.02608 \t\tMean Absolute Error (Test): 0.01998\n",
      "At step 4100 \t\tMean Absolute Error (Train): 0.02546 \t\tMean Absolute Error (Test): 0.01685\n",
      "At step 4200 \t\tMean Absolute Error (Train): 0.01143 \t\tMean Absolute Error (Test): 0.01567\n",
      "At step 4300 \t\tMean Absolute Error (Train): 0.02075 \t\tMean Absolute Error (Test): 0.01471\n",
      "At step 4400 \t\tMean Absolute Error (Train): 0.02519 \t\tMean Absolute Error (Test): 0.01304\n",
      "At step 4500 \t\tMean Absolute Error (Train): 0.03696 \t\tMean Absolute Error (Test): 0.01435\n",
      "At step 4600 \t\tMean Absolute Error (Train): 0.01489 \t\tMean Absolute Error (Test): 0.01642\n",
      "At step 4700 \t\tMean Absolute Error (Train): 0.01030 \t\tMean Absolute Error (Test): 0.01634\n",
      "At step 4800 \t\tMean Absolute Error (Train): 0.03507 \t\tMean Absolute Error (Test): 0.01462\n",
      "At step 4900 \t\tMean Absolute Error (Train): 0.01381 \t\tMean Absolute Error (Test): 0.01597\n",
      "At step 5000 \t\tMean Absolute Error (Train): 0.00724 \t\tMean Absolute Error (Test): 0.01329\n",
      "At step 5100 \t\tMean Absolute Error (Train): 0.03575 \t\tMean Absolute Error (Test): 0.01558\n",
      "At step 5200 \t\tMean Absolute Error (Train): 0.01197 \t\tMean Absolute Error (Test): 0.01551\n",
      "At step 5300 \t\tMean Absolute Error (Train): 0.02511 \t\tMean Absolute Error (Test): 0.01189\n",
      "At step 5400 \t\tMean Absolute Error (Train): 0.01919 \t\tMean Absolute Error (Test): 0.01290\n",
      "At step 5500 \t\tMean Absolute Error (Train): 0.01099 \t\tMean Absolute Error (Test): 0.01399\n",
      "At step 5600 \t\tMean Absolute Error (Train): 0.01867 \t\tMean Absolute Error (Test): 0.01310\n",
      "At step 5700 \t\tMean Absolute Error (Train): 0.03477 \t\tMean Absolute Error (Test): 0.01296\n",
      "At step 5800 \t\tMean Absolute Error (Train): 0.00934 \t\tMean Absolute Error (Test): 0.01593\n",
      "At step 5900 \t\tMean Absolute Error (Train): 0.01534 \t\tMean Absolute Error (Test): 0.01545\n",
      "At step 6000 \t\tMean Absolute Error (Train): 0.00912 \t\tMean Absolute Error (Test): 0.01356\n",
      "At step 6100 \t\tMean Absolute Error (Train): 0.01591 \t\tMean Absolute Error (Test): 0.01472\n",
      "At step 6200 \t\tMean Absolute Error (Train): 0.01123 \t\tMean Absolute Error (Test): 0.01667\n",
      "At step 6300 \t\tMean Absolute Error (Train): 0.01662 \t\tMean Absolute Error (Test): 0.01653\n",
      "At step 6400 \t\tMean Absolute Error (Train): 0.02477 \t\tMean Absolute Error (Test): 0.01365\n",
      "At step 6500 \t\tMean Absolute Error (Train): 0.01191 \t\tMean Absolute Error (Test): 0.01657\n",
      "At step 6600 \t\tMean Absolute Error (Train): 0.01330 \t\tMean Absolute Error (Test): 0.01590\n",
      "At step 6700 \t\tMean Absolute Error (Train): 0.00773 \t\tMean Absolute Error (Test): 0.01432\n",
      "At step 6800 \t\tMean Absolute Error (Train): 0.01196 \t\tMean Absolute Error (Test): 0.01268\n",
      "At step 6900 \t\tMean Absolute Error (Train): 0.01756 \t\tMean Absolute Error (Test): 0.01622\n",
      "At step 7000 \t\tMean Absolute Error (Train): 0.00835 \t\tMean Absolute Error (Test): 0.01516\n",
      "At step 7100 \t\tMean Absolute Error (Train): 0.00852 \t\tMean Absolute Error (Test): 0.01246\n",
      "At step 7200 \t\tMean Absolute Error (Train): 0.01325 \t\tMean Absolute Error (Test): 0.01143\n",
      "At step 7300 \t\tMean Absolute Error (Train): 0.00633 \t\tMean Absolute Error (Test): 0.01516\n",
      "At step 7400 \t\tMean Absolute Error (Train): 0.01413 \t\tMean Absolute Error (Test): 0.01211\n",
      "At step 7500 \t\tMean Absolute Error (Train): 0.01254 \t\tMean Absolute Error (Test): 0.01177\n",
      "At step 7600 \t\tMean Absolute Error (Train): 0.02362 \t\tMean Absolute Error (Test): 0.01548\n",
      "At step 7700 \t\tMean Absolute Error (Train): 0.00518 \t\tMean Absolute Error (Test): 0.01472\n",
      "At step 7800 \t\tMean Absolute Error (Train): 0.01919 \t\tMean Absolute Error (Test): 0.01082\n",
      "At step 7900 \t\tMean Absolute Error (Train): 0.01724 \t\tMean Absolute Error (Test): 0.01438\n",
      "At step 8000 \t\tMean Absolute Error (Train): 0.01629 \t\tMean Absolute Error (Test): 0.01419\n",
      "At step 8100 \t\tMean Absolute Error (Train): 0.01567 \t\tMean Absolute Error (Test): 0.01349\n",
      "At step 8200 \t\tMean Absolute Error (Train): 0.01299 \t\tMean Absolute Error (Test): 0.01505\n",
      "At step 8300 \t\tMean Absolute Error (Train): 0.02738 \t\tMean Absolute Error (Test): 0.01485\n",
      "At step 8400 \t\tMean Absolute Error (Train): 0.02100 \t\tMean Absolute Error (Test): 0.01579\n",
      "At step 8500 \t\tMean Absolute Error (Train): 0.01993 \t\tMean Absolute Error (Test): 0.01272\n",
      "At step 8600 \t\tMean Absolute Error (Train): 0.01716 \t\tMean Absolute Error (Test): 0.01377\n",
      "At step 8700 \t\tMean Absolute Error (Train): 0.00951 \t\tMean Absolute Error (Test): 0.01060\n",
      "At step 8800 \t\tMean Absolute Error (Train): 0.00872 \t\tMean Absolute Error (Test): 0.01322\n",
      "At step 8900 \t\tMean Absolute Error (Train): 0.02073 \t\tMean Absolute Error (Test): 0.01394\n",
      "At step 9000 \t\tMean Absolute Error (Train): 0.01482 \t\tMean Absolute Error (Test): 0.01569\n",
      "At step 9100 \t\tMean Absolute Error (Train): 0.00991 \t\tMean Absolute Error (Test): 0.01486\n"
     ]
    },
    {
     "name": "stdout",
     "output_type": "stream",
     "text": [
      "At step 9200 \t\tMean Absolute Error (Train): 0.00818 \t\tMean Absolute Error (Test): 0.01382\n",
      "At step 9300 \t\tMean Absolute Error (Train): 0.01727 \t\tMean Absolute Error (Test): 0.01383\n",
      "At step 9400 \t\tMean Absolute Error (Train): 0.02998 \t\tMean Absolute Error (Test): 0.01563\n",
      "At step 9500 \t\tMean Absolute Error (Train): 0.01230 \t\tMean Absolute Error (Test): 0.01358\n",
      "At step 9600 \t\tMean Absolute Error (Train): 0.01020 \t\tMean Absolute Error (Test): 0.01389\n",
      "At step 9700 \t\tMean Absolute Error (Train): 0.01431 \t\tMean Absolute Error (Test): 0.01381\n",
      "At step 9800 \t\tMean Absolute Error (Train): 0.00605 \t\tMean Absolute Error (Test): 0.01212\n",
      "At step 9900 \t\tMean Absolute Error (Train): 0.02176 \t\tMean Absolute Error (Test): 0.01427\n",
      "At step 10000 \t\tMean Absolute Error (Train): 0.01703 \t\tMean Absolute Error (Test): 0.01437\n",
      "At step 10100 \t\tMean Absolute Error (Train): 0.01325 \t\tMean Absolute Error (Test): 0.01198\n",
      "At step 10200 \t\tMean Absolute Error (Train): 0.01354 \t\tMean Absolute Error (Test): 0.01233\n",
      "At step 10300 \t\tMean Absolute Error (Train): 0.01568 \t\tMean Absolute Error (Test): 0.01628\n",
      "At step 10400 \t\tMean Absolute Error (Train): 0.01956 \t\tMean Absolute Error (Test): 0.01609\n",
      "At step 10500 \t\tMean Absolute Error (Train): 0.01407 \t\tMean Absolute Error (Test): 0.01151\n",
      "At step 10600 \t\tMean Absolute Error (Train): 0.01109 \t\tMean Absolute Error (Test): 0.01476\n",
      "At step 10700 \t\tMean Absolute Error (Train): 0.01803 \t\tMean Absolute Error (Test): 0.01426\n",
      "At step 10800 \t\tMean Absolute Error (Train): 0.01064 \t\tMean Absolute Error (Test): 0.01277\n",
      "At step 10900 \t\tMean Absolute Error (Train): 0.01799 \t\tMean Absolute Error (Test): 0.01346\n",
      "At step 11000 \t\tMean Absolute Error (Train): 0.02137 \t\tMean Absolute Error (Test): 0.01412\n",
      "At step 11100 \t\tMean Absolute Error (Train): 0.03436 \t\tMean Absolute Error (Test): 0.01472\n",
      "At step 11200 \t\tMean Absolute Error (Train): 0.01111 \t\tMean Absolute Error (Test): 0.01355\n",
      "At step 11300 \t\tMean Absolute Error (Train): 0.01700 \t\tMean Absolute Error (Test): 0.01382\n",
      "At step 11400 \t\tMean Absolute Error (Train): 0.02155 \t\tMean Absolute Error (Test): 0.01202\n",
      "At step 11500 \t\tMean Absolute Error (Train): 0.02743 \t\tMean Absolute Error (Test): 0.01581\n",
      "At step 11600 \t\tMean Absolute Error (Train): 0.00647 \t\tMean Absolute Error (Test): 0.01234\n",
      "At step 11700 \t\tMean Absolute Error (Train): 0.01675 \t\tMean Absolute Error (Test): 0.01299\n",
      "At step 11800 \t\tMean Absolute Error (Train): 0.01663 \t\tMean Absolute Error (Test): 0.01523\n",
      "At step 11900 \t\tMean Absolute Error (Train): 0.01072 \t\tMean Absolute Error (Test): 0.01345\n",
      "At step 12000 \t\tMean Absolute Error (Train): 0.01929 \t\tMean Absolute Error (Test): 0.01424\n",
      "At step 12100 \t\tMean Absolute Error (Train): 0.02616 \t\tMean Absolute Error (Test): 0.01225\n",
      "At step 12200 \t\tMean Absolute Error (Train): 0.01839 \t\tMean Absolute Error (Test): 0.01111\n",
      "At step 12300 \t\tMean Absolute Error (Train): 0.01705 \t\tMean Absolute Error (Test): 0.01111\n",
      "At step 12400 \t\tMean Absolute Error (Train): 0.00855 \t\tMean Absolute Error (Test): 0.01044\n",
      "At step 12500 \t\tMean Absolute Error (Train): 0.01348 \t\tMean Absolute Error (Test): 0.01117\n",
      "At step 12600 \t\tMean Absolute Error (Train): 0.01462 \t\tMean Absolute Error (Test): 0.01228\n",
      "At step 12700 \t\tMean Absolute Error (Train): 0.01905 \t\tMean Absolute Error (Test): 0.01586\n",
      "At step 12800 \t\tMean Absolute Error (Train): 0.00544 \t\tMean Absolute Error (Test): 0.01523\n",
      "At step 12900 \t\tMean Absolute Error (Train): 0.03820 \t\tMean Absolute Error (Test): 0.01548\n",
      "At step 13000 \t\tMean Absolute Error (Train): 0.00943 \t\tMean Absolute Error (Test): 0.01262\n",
      "At step 13100 \t\tMean Absolute Error (Train): 0.01842 \t\tMean Absolute Error (Test): 0.01274\n",
      "At step 13200 \t\tMean Absolute Error (Train): 0.01325 \t\tMean Absolute Error (Test): 0.01293\n",
      "At step 13300 \t\tMean Absolute Error (Train): 0.01332 \t\tMean Absolute Error (Test): 0.01371\n",
      "At step 13400 \t\tMean Absolute Error (Train): 0.01112 \t\tMean Absolute Error (Test): 0.01265\n",
      "At step 13500 \t\tMean Absolute Error (Train): 0.01674 \t\tMean Absolute Error (Test): 0.01359\n",
      "At step 13600 \t\tMean Absolute Error (Train): 0.00539 \t\tMean Absolute Error (Test): 0.01339\n",
      "At step 13700 \t\tMean Absolute Error (Train): 0.01888 \t\tMean Absolute Error (Test): 0.01305\n",
      "At step 13800 \t\tMean Absolute Error (Train): 0.00793 \t\tMean Absolute Error (Test): 0.01262\n",
      "At step 13900 \t\tMean Absolute Error (Train): 0.02252 \t\tMean Absolute Error (Test): 0.01339\n",
      "At step 14000 \t\tMean Absolute Error (Train): 0.01259 \t\tMean Absolute Error (Test): 0.01314\n",
      "At step 14100 \t\tMean Absolute Error (Train): 0.00664 \t\tMean Absolute Error (Test): 0.01309\n",
      "At step 14200 \t\tMean Absolute Error (Train): 0.01952 \t\tMean Absolute Error (Test): 0.01436\n",
      "At step 14300 \t\tMean Absolute Error (Train): 0.00942 \t\tMean Absolute Error (Test): 0.01664\n",
      "At step 14400 \t\tMean Absolute Error (Train): 0.01166 \t\tMean Absolute Error (Test): 0.01032\n",
      "At step 14500 \t\tMean Absolute Error (Train): 0.02400 \t\tMean Absolute Error (Test): 0.01494\n",
      "At step 14600 \t\tMean Absolute Error (Train): 0.00996 \t\tMean Absolute Error (Test): 0.01114\n",
      "At step 14700 \t\tMean Absolute Error (Train): 0.01283 \t\tMean Absolute Error (Test): 0.01093\n",
      "At step 14800 \t\tMean Absolute Error (Train): 0.03738 \t\tMean Absolute Error (Test): 0.01222\n",
      "At step 14900 \t\tMean Absolute Error (Train): 0.00675 \t\tMean Absolute Error (Test): 0.01416\n",
      "At step 15000 \t\tMean Absolute Error (Train): 0.01562 \t\tMean Absolute Error (Test): 0.01287\n",
      "At step 15100 \t\tMean Absolute Error (Train): 0.01870 \t\tMean Absolute Error (Test): 0.01386\n",
      "At step 15200 \t\tMean Absolute Error (Train): 0.00815 \t\tMean Absolute Error (Test): 0.01050\n",
      "At step 15300 \t\tMean Absolute Error (Train): 0.02690 \t\tMean Absolute Error (Test): 0.01174\n",
      "At step 15400 \t\tMean Absolute Error (Train): 0.01916 \t\tMean Absolute Error (Test): 0.01608\n",
      "At step 15500 \t\tMean Absolute Error (Train): 0.01788 \t\tMean Absolute Error (Test): 0.01450\n",
      "At step 15600 \t\tMean Absolute Error (Train): 0.01457 \t\tMean Absolute Error (Test): 0.01450\n",
      "At step 15700 \t\tMean Absolute Error (Train): 0.01838 \t\tMean Absolute Error (Test): 0.01268\n",
      "At step 15800 \t\tMean Absolute Error (Train): 0.01586 \t\tMean Absolute Error (Test): 0.01206\n",
      "At step 15900 \t\tMean Absolute Error (Train): 0.07690 \t\tMean Absolute Error (Test): 0.01164\n",
      "At step 16000 \t\tMean Absolute Error (Train): 0.01591 \t\tMean Absolute Error (Test): 0.01467\n",
      "At step 16100 \t\tMean Absolute Error (Train): 0.01283 \t\tMean Absolute Error (Test): 0.01456\n",
      "At step 16200 \t\tMean Absolute Error (Train): 0.01216 \t\tMean Absolute Error (Test): 0.01212\n",
      "At step 16300 \t\tMean Absolute Error (Train): 0.00819 \t\tMean Absolute Error (Test): 0.01209\n",
      "At step 16400 \t\tMean Absolute Error (Train): 0.02003 \t\tMean Absolute Error (Test): 0.01471\n",
      "At step 16500 \t\tMean Absolute Error (Train): 0.00594 \t\tMean Absolute Error (Test): 0.01189\n",
      "At step 16600 \t\tMean Absolute Error (Train): 0.01499 \t\tMean Absolute Error (Test): 0.01174\n",
      "At step 16700 \t\tMean Absolute Error (Train): 0.01708 \t\tMean Absolute Error (Test): 0.01455\n",
      "At step 16800 \t\tMean Absolute Error (Train): 0.01199 \t\tMean Absolute Error (Test): 0.01457\n",
      "At step 16900 \t\tMean Absolute Error (Train): 0.00748 \t\tMean Absolute Error (Test): 0.01434\n",
      "At step 17000 \t\tMean Absolute Error (Train): 0.01137 \t\tMean Absolute Error (Test): 0.01102\n",
      "At step 17100 \t\tMean Absolute Error (Train): 0.00784 \t\tMean Absolute Error (Test): 0.01320\n",
      "At step 17200 \t\tMean Absolute Error (Train): 0.01386 \t\tMean Absolute Error (Test): 0.01492\n",
      "At step 17300 \t\tMean Absolute Error (Train): 0.01191 \t\tMean Absolute Error (Test): 0.01018\n",
      "At step 17400 \t\tMean Absolute Error (Train): 0.00596 \t\tMean Absolute Error (Test): 0.01420\n",
      "At step 17500 \t\tMean Absolute Error (Train): 0.02231 \t\tMean Absolute Error (Test): 0.01046\n",
      "At step 17600 \t\tMean Absolute Error (Train): 0.02008 \t\tMean Absolute Error (Test): 0.01710\n",
      "At step 17700 \t\tMean Absolute Error (Train): 0.01145 \t\tMean Absolute Error (Test): 0.01457\n",
      "At step 17800 \t\tMean Absolute Error (Train): 0.01049 \t\tMean Absolute Error (Test): 0.01139\n",
      "At step 17900 \t\tMean Absolute Error (Train): 0.01048 \t\tMean Absolute Error (Test): 0.01236\n",
      "At step 18000 \t\tMean Absolute Error (Train): 0.00946 \t\tMean Absolute Error (Test): 0.01487\n",
      "At step 18100 \t\tMean Absolute Error (Train): 0.01154 \t\tMean Absolute Error (Test): 0.01165\n",
      "At step 18200 \t\tMean Absolute Error (Train): 0.02509 \t\tMean Absolute Error (Test): 0.01320\n"
     ]
    },
    {
     "name": "stdout",
     "output_type": "stream",
     "text": [
      "At step 18300 \t\tMean Absolute Error (Train): 0.02063 \t\tMean Absolute Error (Test): 0.01270\n",
      "At step 18400 \t\tMean Absolute Error (Train): 0.02314 \t\tMean Absolute Error (Test): 0.01059\n",
      "At step 18500 \t\tMean Absolute Error (Train): 0.01989 \t\tMean Absolute Error (Test): 0.01167\n",
      "At step 18600 \t\tMean Absolute Error (Train): 0.00898 \t\tMean Absolute Error (Test): 0.01479\n",
      "At step 18700 \t\tMean Absolute Error (Train): 0.00448 \t\tMean Absolute Error (Test): 0.01059\n",
      "At step 18800 \t\tMean Absolute Error (Train): 0.02357 \t\tMean Absolute Error (Test): 0.01035\n",
      "At step 18900 \t\tMean Absolute Error (Train): 0.03125 \t\tMean Absolute Error (Test): 0.01199\n",
      "At step 19000 \t\tMean Absolute Error (Train): 0.02685 \t\tMean Absolute Error (Test): 0.01441\n",
      "At step 19100 \t\tMean Absolute Error (Train): 0.02196 \t\tMean Absolute Error (Test): 0.01461\n",
      "At step 19200 \t\tMean Absolute Error (Train): 0.01543 \t\tMean Absolute Error (Test): 0.01182\n",
      "At step 19300 \t\tMean Absolute Error (Train): 0.01685 \t\tMean Absolute Error (Test): 0.01275\n",
      "At step 19400 \t\tMean Absolute Error (Train): 0.01467 \t\tMean Absolute Error (Test): 0.01069\n",
      "At step 19500 \t\tMean Absolute Error (Train): 0.01882 \t\tMean Absolute Error (Test): 0.00968\n",
      "At step 19600 \t\tMean Absolute Error (Train): 0.01489 \t\tMean Absolute Error (Test): 0.01150\n",
      "At step 19700 \t\tMean Absolute Error (Train): 0.04045 \t\tMean Absolute Error (Test): 0.01129\n",
      "At step 19800 \t\tMean Absolute Error (Train): 0.01930 \t\tMean Absolute Error (Test): 0.01058\n",
      "At step 19900 \t\tMean Absolute Error (Train): 0.01501 \t\tMean Absolute Error (Test): 0.01172\n",
      "At step 20000 \t\tMean Absolute Error (Train): 0.00538 \t\tMean Absolute Error (Test): 0.01520\n",
      "At step 20100 \t\tMean Absolute Error (Train): 0.01318 \t\tMean Absolute Error (Test): 0.01057\n",
      "At step 20200 \t\tMean Absolute Error (Train): 0.01054 \t\tMean Absolute Error (Test): 0.01025\n",
      "At step 20300 \t\tMean Absolute Error (Train): 0.01374 \t\tMean Absolute Error (Test): 0.01291\n",
      "At step 20400 \t\tMean Absolute Error (Train): 0.02227 \t\tMean Absolute Error (Test): 0.01272\n",
      "At step 20500 \t\tMean Absolute Error (Train): 0.01456 \t\tMean Absolute Error (Test): 0.00999\n",
      "At step 20600 \t\tMean Absolute Error (Train): 0.00708 \t\tMean Absolute Error (Test): 0.00974\n",
      "At step 20700 \t\tMean Absolute Error (Train): 0.00871 \t\tMean Absolute Error (Test): 0.01379\n",
      "At step 20800 \t\tMean Absolute Error (Train): 0.01779 \t\tMean Absolute Error (Test): 0.01463\n",
      "At step 20900 \t\tMean Absolute Error (Train): 0.01011 \t\tMean Absolute Error (Test): 0.01432\n",
      "At step 21000 \t\tMean Absolute Error (Train): 0.00564 \t\tMean Absolute Error (Test): 0.01120\n",
      "At step 21100 \t\tMean Absolute Error (Train): 0.01012 \t\tMean Absolute Error (Test): 0.01502\n",
      "At step 21200 \t\tMean Absolute Error (Train): 0.01170 \t\tMean Absolute Error (Test): 0.01055\n",
      "At step 21300 \t\tMean Absolute Error (Train): 0.01162 \t\tMean Absolute Error (Test): 0.01527\n",
      "At step 21400 \t\tMean Absolute Error (Train): 0.01516 \t\tMean Absolute Error (Test): 0.01216\n",
      "At step 21500 \t\tMean Absolute Error (Train): 0.01552 \t\tMean Absolute Error (Test): 0.01066\n",
      "At step 21600 \t\tMean Absolute Error (Train): 0.01672 \t\tMean Absolute Error (Test): 0.01454\n",
      "At step 21700 \t\tMean Absolute Error (Train): 0.02080 \t\tMean Absolute Error (Test): 0.01446\n",
      "At step 21800 \t\tMean Absolute Error (Train): 0.01303 \t\tMean Absolute Error (Test): 0.01233\n",
      "At step 21900 \t\tMean Absolute Error (Train): 0.00738 \t\tMean Absolute Error (Test): 0.01090\n",
      "At step 22000 \t\tMean Absolute Error (Train): 0.00909 \t\tMean Absolute Error (Test): 0.01094\n",
      "At step 22100 \t\tMean Absolute Error (Train): 0.00839 \t\tMean Absolute Error (Test): 0.01053\n",
      "At step 22200 \t\tMean Absolute Error (Train): 0.01762 \t\tMean Absolute Error (Test): 0.01279\n",
      "At step 22300 \t\tMean Absolute Error (Train): 0.01360 \t\tMean Absolute Error (Test): 0.01083\n",
      "At step 22400 \t\tMean Absolute Error (Train): 0.01241 \t\tMean Absolute Error (Test): 0.00984\n",
      "At step 22500 \t\tMean Absolute Error (Train): 0.01913 \t\tMean Absolute Error (Test): 0.01205\n",
      "At step 22600 \t\tMean Absolute Error (Train): 0.03056 \t\tMean Absolute Error (Test): 0.00946\n",
      "At step 22700 \t\tMean Absolute Error (Train): 0.01378 \t\tMean Absolute Error (Test): 0.01163\n",
      "At step 22800 \t\tMean Absolute Error (Train): 0.00893 \t\tMean Absolute Error (Test): 0.01420\n",
      "At step 22900 \t\tMean Absolute Error (Train): 0.01735 \t\tMean Absolute Error (Test): 0.01033\n",
      "At step 23000 \t\tMean Absolute Error (Train): 0.00813 \t\tMean Absolute Error (Test): 0.01451\n",
      "At step 23100 \t\tMean Absolute Error (Train): 0.01070 \t\tMean Absolute Error (Test): 0.01254\n",
      "At step 23200 \t\tMean Absolute Error (Train): 0.01166 \t\tMean Absolute Error (Test): 0.01477\n",
      "At step 23300 \t\tMean Absolute Error (Train): 0.00974 \t\tMean Absolute Error (Test): 0.01417\n",
      "At step 23400 \t\tMean Absolute Error (Train): 0.01296 \t\tMean Absolute Error (Test): 0.00986\n",
      "At step 23500 \t\tMean Absolute Error (Train): 0.00675 \t\tMean Absolute Error (Test): 0.01446\n",
      "At step 23600 \t\tMean Absolute Error (Train): 0.01325 \t\tMean Absolute Error (Test): 0.01084\n",
      "At step 23700 \t\tMean Absolute Error (Train): 0.01439 \t\tMean Absolute Error (Test): 0.01331\n",
      "At step 23800 \t\tMean Absolute Error (Train): 0.00713 \t\tMean Absolute Error (Test): 0.01490\n",
      "At step 23900 \t\tMean Absolute Error (Train): 0.01066 \t\tMean Absolute Error (Test): 0.01148\n",
      "At step 24000 \t\tMean Absolute Error (Train): 0.01235 \t\tMean Absolute Error (Test): 0.01469\n",
      "At step 24100 \t\tMean Absolute Error (Train): 0.01718 \t\tMean Absolute Error (Test): 0.01202\n",
      "At step 24200 \t\tMean Absolute Error (Train): 0.01526 \t\tMean Absolute Error (Test): 0.01419\n",
      "At step 24300 \t\tMean Absolute Error (Train): 0.01504 \t\tMean Absolute Error (Test): 0.01409\n",
      "At step 24400 \t\tMean Absolute Error (Train): 0.00710 \t\tMean Absolute Error (Test): 0.01400\n",
      "At step 24500 \t\tMean Absolute Error (Train): 0.00961 \t\tMean Absolute Error (Test): 0.01141\n",
      "At step 24600 \t\tMean Absolute Error (Train): 0.00704 \t\tMean Absolute Error (Test): 0.01258\n",
      "At step 24700 \t\tMean Absolute Error (Train): 0.01359 \t\tMean Absolute Error (Test): 0.01044\n",
      "At step 24800 \t\tMean Absolute Error (Train): 0.01135 \t\tMean Absolute Error (Test): 0.01359\n",
      "At step 24900 \t\tMean Absolute Error (Train): 0.01001 \t\tMean Absolute Error (Test): 0.01087\n",
      "At step 25000 \t\tMean Absolute Error (Train): 0.01566 \t\tMean Absolute Error (Test): 0.01330\n",
      "At step 25100 \t\tMean Absolute Error (Train): 0.01499 \t\tMean Absolute Error (Test): 0.01152\n",
      "At step 25200 \t\tMean Absolute Error (Train): 0.01165 \t\tMean Absolute Error (Test): 0.00939\n",
      "At step 25300 \t\tMean Absolute Error (Train): 0.01079 \t\tMean Absolute Error (Test): 0.01336\n",
      "At step 25400 \t\tMean Absolute Error (Train): 0.03460 \t\tMean Absolute Error (Test): 0.01209\n",
      "At step 25500 \t\tMean Absolute Error (Train): 0.01707 \t\tMean Absolute Error (Test): 0.01099\n",
      "At step 25600 \t\tMean Absolute Error (Train): 0.01089 \t\tMean Absolute Error (Test): 0.01310\n",
      "At step 25700 \t\tMean Absolute Error (Train): 0.00714 \t\tMean Absolute Error (Test): 0.01026\n",
      "At step 25800 \t\tMean Absolute Error (Train): 0.01103 \t\tMean Absolute Error (Test): 0.01018\n",
      "At step 25900 \t\tMean Absolute Error (Train): 0.00707 \t\tMean Absolute Error (Test): 0.00961\n",
      "At step 26000 \t\tMean Absolute Error (Train): 0.01286 \t\tMean Absolute Error (Test): 0.01056\n",
      "At step 26100 \t\tMean Absolute Error (Train): 0.01016 \t\tMean Absolute Error (Test): 0.01505\n",
      "At step 26200 \t\tMean Absolute Error (Train): 0.01643 \t\tMean Absolute Error (Test): 0.01250\n",
      "At step 26300 \t\tMean Absolute Error (Train): 0.01961 \t\tMean Absolute Error (Test): 0.01098\n",
      "At step 26400 \t\tMean Absolute Error (Train): 0.01202 \t\tMean Absolute Error (Test): 0.01187\n",
      "At step 26500 \t\tMean Absolute Error (Train): 0.01162 \t\tMean Absolute Error (Test): 0.01067\n",
      "At step 26600 \t\tMean Absolute Error (Train): 0.01254 \t\tMean Absolute Error (Test): 0.01004\n",
      "At step 26700 \t\tMean Absolute Error (Train): 0.01057 \t\tMean Absolute Error (Test): 0.01009\n",
      "At step 26800 \t\tMean Absolute Error (Train): 0.01181 \t\tMean Absolute Error (Test): 0.01270\n",
      "At step 26900 \t\tMean Absolute Error (Train): 0.01241 \t\tMean Absolute Error (Test): 0.01357\n",
      "At step 27000 \t\tMean Absolute Error (Train): 0.00944 \t\tMean Absolute Error (Test): 0.01110\n",
      "At step 27100 \t\tMean Absolute Error (Train): 0.00903 \t\tMean Absolute Error (Test): 0.01234\n",
      "At step 27200 \t\tMean Absolute Error (Train): 0.01328 \t\tMean Absolute Error (Test): 0.01454\n",
      "At step 27300 \t\tMean Absolute Error (Train): 0.00842 \t\tMean Absolute Error (Test): 0.01024\n"
     ]
    },
    {
     "name": "stdout",
     "output_type": "stream",
     "text": [
      "At step 27400 \t\tMean Absolute Error (Train): 0.02292 \t\tMean Absolute Error (Test): 0.01207\n",
      "At step 27500 \t\tMean Absolute Error (Train): 0.01456 \t\tMean Absolute Error (Test): 0.01156\n",
      "At step 27600 \t\tMean Absolute Error (Train): 0.01420 \t\tMean Absolute Error (Test): 0.01433\n",
      "At step 27700 \t\tMean Absolute Error (Train): 0.02094 \t\tMean Absolute Error (Test): 0.00990\n",
      "At step 27800 \t\tMean Absolute Error (Train): 0.03510 \t\tMean Absolute Error (Test): 0.01358\n",
      "At step 27900 \t\tMean Absolute Error (Train): 0.02785 \t\tMean Absolute Error (Test): 0.01107\n",
      "At step 28000 \t\tMean Absolute Error (Train): 0.00988 \t\tMean Absolute Error (Test): 0.00958\n",
      "At step 28100 \t\tMean Absolute Error (Train): 0.00587 \t\tMean Absolute Error (Test): 0.01461\n",
      "At step 28200 \t\tMean Absolute Error (Train): 0.02307 \t\tMean Absolute Error (Test): 0.01274\n",
      "At step 28300 \t\tMean Absolute Error (Train): 0.00873 \t\tMean Absolute Error (Test): 0.01478\n",
      "At step 28400 \t\tMean Absolute Error (Train): 0.00810 \t\tMean Absolute Error (Test): 0.01033\n",
      "At step 28500 \t\tMean Absolute Error (Train): 0.01033 \t\tMean Absolute Error (Test): 0.01388\n",
      "At step 28600 \t\tMean Absolute Error (Train): 0.01451 \t\tMean Absolute Error (Test): 0.01102\n",
      "At step 28700 \t\tMean Absolute Error (Train): 0.01115 \t\tMean Absolute Error (Test): 0.00923\n",
      "At step 28800 \t\tMean Absolute Error (Train): 0.02979 \t\tMean Absolute Error (Test): 0.01239\n",
      "At step 28900 \t\tMean Absolute Error (Train): 0.01973 \t\tMean Absolute Error (Test): 0.01044\n",
      "At step 29000 \t\tMean Absolute Error (Train): 0.01471 \t\tMean Absolute Error (Test): 0.00972\n",
      "At step 29100 \t\tMean Absolute Error (Train): 0.00702 \t\tMean Absolute Error (Test): 0.01233\n",
      "At step 29200 \t\tMean Absolute Error (Train): 0.00961 \t\tMean Absolute Error (Test): 0.01096\n",
      "At step 29300 \t\tMean Absolute Error (Train): 0.01270 \t\tMean Absolute Error (Test): 0.01202\n",
      "At step 29400 \t\tMean Absolute Error (Train): 0.01682 \t\tMean Absolute Error (Test): 0.01009\n",
      "At step 29500 \t\tMean Absolute Error (Train): 0.00828 \t\tMean Absolute Error (Test): 0.01104\n",
      "At step 29600 \t\tMean Absolute Error (Train): 0.02352 \t\tMean Absolute Error (Test): 0.01141\n",
      "At step 29700 \t\tMean Absolute Error (Train): 0.01773 \t\tMean Absolute Error (Test): 0.01164\n",
      "At step 29800 \t\tMean Absolute Error (Train): 0.02506 \t\tMean Absolute Error (Test): 0.00948\n",
      "At step 29900 \t\tMean Absolute Error (Train): 0.02518 \t\tMean Absolute Error (Test): 0.01032\n",
      "At step 30000 \t\tMean Absolute Error (Train): 0.01163 \t\tMean Absolute Error (Test): 0.01060\n",
      "At step 30100 \t\tMean Absolute Error (Train): 0.00793 \t\tMean Absolute Error (Test): 0.00962\n",
      "At step 30200 \t\tMean Absolute Error (Train): 0.00936 \t\tMean Absolute Error (Test): 0.01088\n",
      "At step 30300 \t\tMean Absolute Error (Train): 0.01791 \t\tMean Absolute Error (Test): 0.00937\n",
      "At step 30400 \t\tMean Absolute Error (Train): 0.01878 \t\tMean Absolute Error (Test): 0.01000\n",
      "At step 30500 \t\tMean Absolute Error (Train): 0.01280 \t\tMean Absolute Error (Test): 0.01304\n",
      "At step 30600 \t\tMean Absolute Error (Train): 0.01039 \t\tMean Absolute Error (Test): 0.00999\n",
      "At step 30700 \t\tMean Absolute Error (Train): 0.00847 \t\tMean Absolute Error (Test): 0.01361\n",
      "At step 30800 \t\tMean Absolute Error (Train): 0.00800 \t\tMean Absolute Error (Test): 0.01361\n",
      "At step 30900 \t\tMean Absolute Error (Train): 0.00807 \t\tMean Absolute Error (Test): 0.01183\n",
      "At step 31000 \t\tMean Absolute Error (Train): 0.00849 \t\tMean Absolute Error (Test): 0.01364\n",
      "At step 31100 \t\tMean Absolute Error (Train): 0.00886 \t\tMean Absolute Error (Test): 0.01233\n",
      "At step 31200 \t\tMean Absolute Error (Train): 0.01248 \t\tMean Absolute Error (Test): 0.01356\n",
      "At step 31300 \t\tMean Absolute Error (Train): 0.01193 \t\tMean Absolute Error (Test): 0.01160\n",
      "At step 31400 \t\tMean Absolute Error (Train): 0.01087 \t\tMean Absolute Error (Test): 0.01115\n",
      "At step 31500 \t\tMean Absolute Error (Train): 0.01222 \t\tMean Absolute Error (Test): 0.01339\n",
      "At step 31600 \t\tMean Absolute Error (Train): 0.02232 \t\tMean Absolute Error (Test): 0.01277\n",
      "At step 31700 \t\tMean Absolute Error (Train): 0.00869 \t\tMean Absolute Error (Test): 0.00970\n",
      "At step 31800 \t\tMean Absolute Error (Train): 0.01065 \t\tMean Absolute Error (Test): 0.01048\n",
      "At step 31900 \t\tMean Absolute Error (Train): 0.00676 \t\tMean Absolute Error (Test): 0.00999\n",
      "At step 32000 \t\tMean Absolute Error (Train): 0.01365 \t\tMean Absolute Error (Test): 0.01331\n",
      "At step 32100 \t\tMean Absolute Error (Train): 0.00834 \t\tMean Absolute Error (Test): 0.01160\n",
      "At step 32200 \t\tMean Absolute Error (Train): 0.00815 \t\tMean Absolute Error (Test): 0.01290\n",
      "At step 32300 \t\tMean Absolute Error (Train): 0.00977 \t\tMean Absolute Error (Test): 0.01442\n",
      "At step 32400 \t\tMean Absolute Error (Train): 0.00970 \t\tMean Absolute Error (Test): 0.01382\n",
      "At step 32500 \t\tMean Absolute Error (Train): 0.00771 \t\tMean Absolute Error (Test): 0.01362\n",
      "At step 32600 \t\tMean Absolute Error (Train): 0.00691 \t\tMean Absolute Error (Test): 0.01167\n",
      "At step 32700 \t\tMean Absolute Error (Train): 0.01576 \t\tMean Absolute Error (Test): 0.01268\n",
      "At step 32800 \t\tMean Absolute Error (Train): 0.01235 \t\tMean Absolute Error (Test): 0.01050\n",
      "At step 32900 \t\tMean Absolute Error (Train): 0.00549 \t\tMean Absolute Error (Test): 0.01076\n",
      "At step 33000 \t\tMean Absolute Error (Train): 0.01422 \t\tMean Absolute Error (Test): 0.01084\n",
      "At step 33100 \t\tMean Absolute Error (Train): 0.02700 \t\tMean Absolute Error (Test): 0.01401\n",
      "At step 33200 \t\tMean Absolute Error (Train): 0.01731 \t\tMean Absolute Error (Test): 0.01130\n",
      "At step 33300 \t\tMean Absolute Error (Train): 0.00679 \t\tMean Absolute Error (Test): 0.00965\n",
      "At step 33400 \t\tMean Absolute Error (Train): 0.01077 \t\tMean Absolute Error (Test): 0.01173\n",
      "At step 33500 \t\tMean Absolute Error (Train): 0.00602 \t\tMean Absolute Error (Test): 0.00969\n",
      "At step 33600 \t\tMean Absolute Error (Train): 0.02084 \t\tMean Absolute Error (Test): 0.01446\n",
      "At step 33700 \t\tMean Absolute Error (Train): 0.01045 \t\tMean Absolute Error (Test): 0.01208\n",
      "At step 33800 \t\tMean Absolute Error (Train): 0.02048 \t\tMean Absolute Error (Test): 0.01252\n",
      "At step 33900 \t\tMean Absolute Error (Train): 0.01236 \t\tMean Absolute Error (Test): 0.01434\n",
      "At step 34000 \t\tMean Absolute Error (Train): 0.01431 \t\tMean Absolute Error (Test): 0.01318\n",
      "At step 34100 \t\tMean Absolute Error (Train): 0.01703 \t\tMean Absolute Error (Test): 0.01009\n",
      "At step 34200 \t\tMean Absolute Error (Train): 0.01215 \t\tMean Absolute Error (Test): 0.01240\n",
      "At step 34300 \t\tMean Absolute Error (Train): 0.04628 \t\tMean Absolute Error (Test): 0.01004\n",
      "At step 34400 \t\tMean Absolute Error (Train): 0.01309 \t\tMean Absolute Error (Test): 0.01325\n",
      "At step 34500 \t\tMean Absolute Error (Train): 0.00771 \t\tMean Absolute Error (Test): 0.01179\n",
      "At step 34600 \t\tMean Absolute Error (Train): 0.02017 \t\tMean Absolute Error (Test): 0.01260\n",
      "At step 34700 \t\tMean Absolute Error (Train): 0.00876 \t\tMean Absolute Error (Test): 0.01132\n",
      "At step 34800 \t\tMean Absolute Error (Train): 0.01209 \t\tMean Absolute Error (Test): 0.00978\n",
      "At step 34900 \t\tMean Absolute Error (Train): 0.01968 \t\tMean Absolute Error (Test): 0.01006\n",
      "At step 35000 \t\tMean Absolute Error (Train): 0.00592 \t\tMean Absolute Error (Test): 0.01389\n",
      "At step 35100 \t\tMean Absolute Error (Train): 0.00761 \t\tMean Absolute Error (Test): 0.01466\n",
      "At step 35200 \t\tMean Absolute Error (Train): 0.00867 \t\tMean Absolute Error (Test): 0.01291\n",
      "At step 35300 \t\tMean Absolute Error (Train): 0.01649 \t\tMean Absolute Error (Test): 0.01307\n",
      "At step 35400 \t\tMean Absolute Error (Train): 0.00461 \t\tMean Absolute Error (Test): 0.01262\n",
      "At step 35500 \t\tMean Absolute Error (Train): 0.00912 \t\tMean Absolute Error (Test): 0.01348\n",
      "At step 35600 \t\tMean Absolute Error (Train): 0.02934 \t\tMean Absolute Error (Test): 0.01082\n",
      "At step 35700 \t\tMean Absolute Error (Train): 0.01251 \t\tMean Absolute Error (Test): 0.00939\n",
      "At step 35800 \t\tMean Absolute Error (Train): 0.01106 \t\tMean Absolute Error (Test): 0.00976\n",
      "At step 35900 \t\tMean Absolute Error (Train): 0.01553 \t\tMean Absolute Error (Test): 0.01230\n",
      "At step 36000 \t\tMean Absolute Error (Train): 0.00932 \t\tMean Absolute Error (Test): 0.01110\n",
      "At step 36100 \t\tMean Absolute Error (Train): 0.02146 \t\tMean Absolute Error (Test): 0.01072\n",
      "At step 36200 \t\tMean Absolute Error (Train): 0.00866 \t\tMean Absolute Error (Test): 0.00938\n",
      "At step 36300 \t\tMean Absolute Error (Train): 0.01171 \t\tMean Absolute Error (Test): 0.01254\n",
      "At step 36400 \t\tMean Absolute Error (Train): 0.01028 \t\tMean Absolute Error (Test): 0.00965\n"
     ]
    },
    {
     "name": "stdout",
     "output_type": "stream",
     "text": [
      "At step 36500 \t\tMean Absolute Error (Train): 0.00672 \t\tMean Absolute Error (Test): 0.00958\n",
      "At step 36600 \t\tMean Absolute Error (Train): 0.01974 \t\tMean Absolute Error (Test): 0.01155\n",
      "At step 36700 \t\tMean Absolute Error (Train): 0.00857 \t\tMean Absolute Error (Test): 0.01462\n",
      "At step 36800 \t\tMean Absolute Error (Train): 0.00755 \t\tMean Absolute Error (Test): 0.00932\n",
      "At step 36900 \t\tMean Absolute Error (Train): 0.01352 \t\tMean Absolute Error (Test): 0.00919\n",
      "At step 37000 \t\tMean Absolute Error (Train): 0.01176 \t\tMean Absolute Error (Test): 0.01493\n",
      "At step 37100 \t\tMean Absolute Error (Train): 0.02118 \t\tMean Absolute Error (Test): 0.01349\n",
      "At step 37200 \t\tMean Absolute Error (Train): 0.01352 \t\tMean Absolute Error (Test): 0.01444\n",
      "At step 37300 \t\tMean Absolute Error (Train): 0.00622 \t\tMean Absolute Error (Test): 0.01120\n",
      "At step 37400 \t\tMean Absolute Error (Train): 0.00904 \t\tMean Absolute Error (Test): 0.01249\n",
      "At step 37500 \t\tMean Absolute Error (Train): 0.01836 \t\tMean Absolute Error (Test): 0.01163\n",
      "At step 37600 \t\tMean Absolute Error (Train): 0.01310 \t\tMean Absolute Error (Test): 0.01133\n",
      "At step 37700 \t\tMean Absolute Error (Train): 0.02099 \t\tMean Absolute Error (Test): 0.01027\n",
      "At step 37800 \t\tMean Absolute Error (Train): 0.01401 \t\tMean Absolute Error (Test): 0.00991\n",
      "At step 37900 \t\tMean Absolute Error (Train): 0.01566 \t\tMean Absolute Error (Test): 0.00955\n",
      "At step 38000 \t\tMean Absolute Error (Train): 0.01140 \t\tMean Absolute Error (Test): 0.01105\n",
      "At step 38100 \t\tMean Absolute Error (Train): 0.01672 \t\tMean Absolute Error (Test): 0.01047\n",
      "At step 38200 \t\tMean Absolute Error (Train): 0.01012 \t\tMean Absolute Error (Test): 0.00963\n",
      "At step 38300 \t\tMean Absolute Error (Train): 0.00532 \t\tMean Absolute Error (Test): 0.00941\n",
      "At step 38400 \t\tMean Absolute Error (Train): 0.01468 \t\tMean Absolute Error (Test): 0.01272\n",
      "At step 38500 \t\tMean Absolute Error (Train): 0.00805 \t\tMean Absolute Error (Test): 0.01286\n",
      "At step 38600 \t\tMean Absolute Error (Train): 0.01304 \t\tMean Absolute Error (Test): 0.01031\n",
      "At step 38700 \t\tMean Absolute Error (Train): 0.01342 \t\tMean Absolute Error (Test): 0.01293\n",
      "At step 38800 \t\tMean Absolute Error (Train): 0.01346 \t\tMean Absolute Error (Test): 0.01553\n",
      "At step 38900 \t\tMean Absolute Error (Train): 0.00855 \t\tMean Absolute Error (Test): 0.01234\n",
      "At step 39000 \t\tMean Absolute Error (Train): 0.00985 \t\tMean Absolute Error (Test): 0.01005\n",
      "At step 39100 \t\tMean Absolute Error (Train): 0.02465 \t\tMean Absolute Error (Test): 0.00946\n",
      "At step 39200 \t\tMean Absolute Error (Train): 0.01661 \t\tMean Absolute Error (Test): 0.01193\n",
      "At step 39300 \t\tMean Absolute Error (Train): 0.01235 \t\tMean Absolute Error (Test): 0.01063\n",
      "At step 39400 \t\tMean Absolute Error (Train): 0.01111 \t\tMean Absolute Error (Test): 0.00961\n",
      "At step 39500 \t\tMean Absolute Error (Train): 0.01341 \t\tMean Absolute Error (Test): 0.01515\n",
      "At step 39600 \t\tMean Absolute Error (Train): 0.01467 \t\tMean Absolute Error (Test): 0.00988\n",
      "At step 39700 \t\tMean Absolute Error (Train): 0.00958 \t\tMean Absolute Error (Test): 0.01205\n",
      "At step 39800 \t\tMean Absolute Error (Train): 0.01421 \t\tMean Absolute Error (Test): 0.01006\n",
      "At step 39900 \t\tMean Absolute Error (Train): 0.02180 \t\tMean Absolute Error (Test): 0.01370\n"
     ]
    }
   ],
   "source": [
    "with tf.Session() as sess:\n",
    "    sess.run(init)\n",
    "    for i in range(ITER):\n",
    "        x_rnn_batch,x_dnn_batch,y_batch = next_batch(training_set_rnn,training_set_dnn,steps=STEPS)\n",
    "        sess.run(train,feed_dict = {x_rnn:x_rnn_batch,x_dnn:x_dnn_batch ,y: y_batch , hold_proba:0.8})\n",
    "        if i % 100 == 0:\n",
    "            x_rnn_test,x_dnn_test,y_test = next_batch(test_set_rnn,test_set_dnn,steps=1000)\n",
    "            print(\"At step\",i,\"\\t\\tMean Absolute Error (Train): %1.5f\"%(sess.run(loss,feed_dict = {x_rnn:x_rnn_batch,x_dnn:x_dnn_batch ,y: y_batch , hold_proba:1.0})),\"\\t\\tMean Absolute Error (Test): %1.5f\"%(sess.run(loss,feed_dict = {x_rnn:x_rnn_test,x_dnn:x_dnn_test ,y: y_test , hold_proba:1.0})))\n",
    "    saver.save(sess, \"Pollution_model/model\")"
   ]
  },
  {
   "cell_type": "markdown",
   "metadata": {},
   "source": [
    "# Visualizing and testing the model "
   ]
  },
  {
   "cell_type": "code",
   "execution_count": 494,
   "metadata": {
    "collapsed": true
   },
   "outputs": [],
   "source": [
    "from sklearn.metrics import mean_absolute_error,mean_squared_error"
   ]
  },
  {
   "cell_type": "code",
   "execution_count": 528,
   "metadata": {
    "scrolled": true
   },
   "outputs": [
    {
     "name": "stdout",
     "output_type": "stream",
     "text": [
      "INFO:tensorflow:Restoring parameters from Pollution_model/model\n"
     ]
    }
   ],
   "source": [
    "with tf.Session() as sess:\n",
    "    #Restoring the model\n",
    "    saver.restore(sess, \"Pollution_model/model\")\n",
    "    #Preparing batches\n",
    "    x_rnn_batch,x_dnn_batch,y_batch = next_batch(test_set_rnn,test_set_dnn,steps=3001)\n",
    "    #Predicting the output\n",
    "    output = sess.run(network_op, feed_dict={x_rnn:x_rnn_batch,x_dnn:x_dnn_batch, hold_proba:1.0})"
   ]
  },
  {
   "cell_type": "code",
   "execution_count": 532,
   "metadata": {},
   "outputs": [],
   "source": [
    "#Inverse scaling the predicted and actual values\n",
    "y_inversed = pol_scaler.inverse_transform(y_batch.reshape(1,3001)[:,:-1]).reshape(-1,1)\n",
    "pred_inversed = pol_scaler.inverse_transform(output.reshape(1,3001)[:,1:]).reshape(-1,1)\n",
    "dataframe = np.append(y_inversed,pred_inversed,1)"
   ]
  },
  {
   "cell_type": "code",
   "execution_count": 535,
   "metadata": {},
   "outputs": [
    {
     "data": {
      "image/png": "[encoded data removed]",
      "text/plain": [
       "<matplotlib.figure.Figure at 0x1511bd78588>"
      ]
     },
     "metadata": {},
     "output_type": "display_data"
    },
    {
     "name": "stdout",
     "output_type": "stream",
     "text": [
      "Mean Absolute Error (Test)\t=\t 4.13500152213\n",
      "Root Mean Squared Error (Test)\t=\t 6.30745483054\n"
     ]
    }
   ],
   "source": [
    "##Creating the dataframe\n",
    "df = pd.DataFrame(dataframe,columns=['Actual','Prediction'])\n",
    "#Plotting the graph\n",
    "df[:100].plot()\n",
    "plt.title(\"Actual Data vs Prediction Data (Test Dataset)\")\n",
    "plt.ylabel(\"Pollution\")\n",
    "plt.xlabel('Timestep')\n",
    "plt.show()\n",
    "#Calculating MAE and RMSE error\n",
    "y_true = df['Actual'].values\n",
    "y_pred = df['Prediction'].values\n",
    "score_mae = mean_absolute_error(y_true,y_pred)\n",
    "score_mse = mean_squared_error(y_true,y_pred)\n",
    "print(\"Mean Absolute Error (Test)\\t=\\t\",score_mae)\n",
    "print(\"Root Mean Squared Error (Test)\\t=\\t\",score_mse**0.5)"
   ]
  },
  {
   "cell_type": "code",
   "execution_count": 536,
   "metadata": {
    "collapsed": true
   },
   "outputs": [],
   "source": [
    "#Converting dataset to spreadsheet\n",
    "df.to_csv('prediction.csv')"
   ]
  },
  {
   "cell_type": "code",
   "execution_count": null,
   "metadata": {
    "collapsed": true
   },
   "outputs": [],
   "source": []
  }
 ],
 "metadata": {
  "kernelspec": {
   "display_name": "Python 3",
   "language": "python",
   "name": "python3"
  },
  "language_info": {
   "codemirror_mode": {
    "name": "ipython",
    "version": 3
   },
   "file_extension": ".py",
   "mimetype": "text/x-python",
   "name": "python",
   "nbconvert_exporter": "python",
   "pygments_lexer": "ipython3",
   "version": "3.6.3"
  }
 },
 "nbformat": 4,
 "nbformat_minor": 2
}
