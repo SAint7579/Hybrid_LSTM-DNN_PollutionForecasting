{
 "cells": [
  {
   "cell_type": "code",
   "execution_count": 489,
   "metadata": {
    "collapsed": true
   },
   "outputs": [],
   "source": [
    "import pandas as pd\n",
    "import matplotlib.pyplot as plt\n",
    "import numpy as np\n",
    "from datetime import datetime\n",
    "%matplotlib inline"
   ]
  },
  {
   "cell_type": "markdown",
   "metadata": {},
   "source": [
    "# Data preprocessing \n",
    "## Data preparation:\n",
    "* Replace NA values\n",
    "* Parse date-time into pandas dataframe index\n",
    "* Specified clear names for each columns"
   ]
  },
  {
   "cell_type": "code",
   "execution_count": 490,
   "metadata": {
    "collapsed": true
   },
   "outputs": [],
   "source": [
    "def parse(x):\n",
    "\treturn datetime.strptime(x, '%Y %m %d %H')"
   ]
  },
  {
   "cell_type": "code",
   "execution_count": 491,
   "metadata": {},
   "outputs": [
    {
     "name": "stdout",
     "output_type": "stream",
     "text": [
      "||||||||||||||||||||||||||||||||||||||||||||||||||||||||||||||||||||||||||||||||\n",
      "** DATA PROCESSING COMPLETED **\n",
      "                     pollution  dew  temp   press wnd_dir  wnd_spd  snow  rain\n",
      "date                                                                          \n",
      "2010-01-02 00:00:00      129.0  -16  -4.0  1020.0      SE     1.79     0     0\n",
      "2010-01-02 01:00:00      148.0  -15  -4.0  1020.0      SE     2.68     0     0\n",
      "2010-01-02 02:00:00      159.0  -11  -5.0  1021.0      SE     3.57     0     0\n",
      "2010-01-02 03:00:00      181.0   -7  -5.0  1022.0      SE     5.36     1     0\n",
      "2010-01-02 04:00:00      138.0   -7  -5.0  1022.0      SE     6.25     2     0\n",
      "||||||||||||||||||||||||||||||||||||||||||||||||||||||||||||||||||||||||||||||||\n"
     ]
    }
   ],
   "source": [
    "dataset = pd.read_csv('data_hrly.csv',  parse_dates = [['year', 'month', 'day', 'hour']], index_col=0, date_parser=parse)\n",
    "dataset.drop('No', axis=1, inplace=True)\n",
    "dataset.columns = ['pollution', 'dew', 'temp', 'press', 'wnd_dir', 'wnd_spd', 'snow', 'rain']\n",
    "dataset.index.name = 'date'\n",
    "dataset['pollution'].fillna(0, inplace=True)\n",
    "dataset = dataset[24:]\n",
    "print(\"||\"*40)\n",
    "print(\"** DATA PROCESSING COMPLETED **\")\n",
    "print(dataset.head(5))\n",
    "print(\"||\"*40)\n",
    "dataset.to_csv('pollution.csv')"
   ]
  },
  {
   "cell_type": "code",
   "execution_count": 492,
   "metadata": {
    "collapsed": true
   },
   "outputs": [],
   "source": [
    "dataset = pd.read_csv('pollution.csv',index_col='date')"
   ]
  },
  {
   "cell_type": "code",
   "execution_count": 493,
   "metadata": {},
   "outputs": [
    {
     "data": {
      "text/plain": [
       "<matplotlib.axes._subplots.AxesSubplot at 0x2db179f0240>"
      ]
     },
     "execution_count": 493,
     "metadata": {},
     "output_type": "execute_result"
    },
    {
     "data": {
      "image/png": "[encoded data removed]",
      "text/plain": [
       "<matplotlib.figure.Figure at 0x2db0f9b90f0>"
      ]
     },
     "metadata": {},
     "output_type": "display_data"
    }
   ],
   "source": [
    "dataset['dew'].plot()"
   ]
  },
  {
   "cell_type": "code",
   "execution_count": 494,
   "metadata": {},
   "outputs": [],
   "source": [
    "from sklearn.preprocessing import MinMaxScaler,StandardScaler\n",
    "from sklearn.preprocessing import LabelEncoder,OneHotEncoder\n",
    "lbe = LabelEncoder()\n",
    "ohe = OneHotEncoder(categorical_features=[4])\n",
    "scaler = MinMaxScaler()\n"
   ]
  },
  {
   "cell_type": "code",
   "execution_count": 496,
   "metadata": {
    "scrolled": true
   },
   "outputs": [
    {
     "name": "stdout",
     "output_type": "stream",
     "text": [
      "Shape:  (43800, 10)\n"
     ]
    }
   ],
   "source": [
    "dataset = pd.read_csv('pollution.csv',index_col='date')\n",
    "dataset['wnd_dir'] = lbe.fit_transform(dataset['wnd_dir'])\n",
    "dataset= ohe.fit_transform(dataset).toarray()\n",
    "dataset = dataset[:,1:]\n",
    "dataset = scaler.fit_transform(dataset)\n",
    "print(\"Shape: \",dataset.shape)"
   ]
  },
  {
   "cell_type": "code",
   "execution_count": 497,
   "metadata": {
    "collapsed": true
   },
   "outputs": [],
   "source": [
    "training_set = dataset[:40000,:]\n",
    "test_set = dataset[40000:,:]"
   ]
  },
  {
   "cell_type": "code",
   "execution_count": 498,
   "metadata": {},
   "outputs": [
    {
     "data": {
      "text/plain": [
       "(3800, 10)"
      ]
     },
     "execution_count": 498,
     "metadata": {},
     "output_type": "execute_result"
    }
   ],
   "source": [
    "test_set.shape"
   ]
  },
  {
   "cell_type": "markdown",
   "metadata": {},
   "source": [
    "# Data format"
   ]
  },
  {
   "cell_type": "code",
   "execution_count": 499,
   "metadata": {},
   "outputs": [
    {
     "name": "stdout",
     "output_type": "stream",
     "text": [
      "0.0\n",
      "1.0\n",
      "0.0\n",
      "0.129778672032\n",
      "0.352941176471\n",
      "0.245901639344\n",
      "0.527272727273\n",
      "0.00229001110826\n",
      "0.0\n",
      "0.0\n"
     ]
    }
   ],
   "source": [
    "for x in (dataset[0]):\n",
    "    print(x)"
   ]
  },
  {
   "cell_type": "code",
   "execution_count": 500,
   "metadata": {
    "collapsed": true
   },
   "outputs": [],
   "source": [
    "def next_batch(training_data,steps):\n",
    "    \"\"\"\n",
    "    INPUT: Data, Batch Size, Time Steps per batch\n",
    "    OUTPUT: A tuple of y time series results. y[:,:-1] and y[:,1:]\n",
    "    \"\"\"\n",
    "    \n",
    "    # STEP 1: Use np.random.randint to set a random starting point index for the batch.\n",
    "    # Remember that each batch needs have the same number of steps in it.\n",
    "    # This means you should limit the starting point to len(data)-steps\n",
    "    \n",
    "    ts_start = np.random.randint(low = 0, high = len(training_data)-steps)\n",
    "    # STEP 2: Now that you have a starting index you'll need to index the data from\n",
    "    # the random start to random start + steps + 1. Then reshape this data to be (1,steps+1)\n",
    "    y_batch = training_data[ts_start: ts_start + steps + 1]\n",
    "    # STEP 3: Return the batches. You'll have two batches to return y[:,:-1] and y[:,1:]\n",
    "    # You'll need to reshape these into tensors for the RNN to .reshape(-1,steps,1)\n",
    "    return y_batch[:-1,:].reshape(-1,steps,10) , y_batch[1:,[3]].reshape(-1,steps,1)\n",
    "    "
   ]
  },
  {
   "cell_type": "code",
   "execution_count": 501,
   "metadata": {},
   "outputs": [],
   "source": [
    "x,y = next_batch(training_data=training_set,steps=100)"
   ]
  },
  {
   "cell_type": "code",
   "execution_count": 502,
   "metadata": {},
   "outputs": [
    {
     "data": {
      "text/plain": [
       "(100, 10)"
      ]
     },
     "execution_count": 502,
     "metadata": {},
     "output_type": "execute_result"
    }
   ],
   "source": [
    "training_set[31671: 31671 + 100 + 1][:-1,:].shape"
   ]
  },
  {
   "cell_type": "code",
   "execution_count": 503,
   "metadata": {},
   "outputs": [
    {
     "data": {
      "text/plain": [
       "(101, 10)"
      ]
     },
     "execution_count": 503,
     "metadata": {},
     "output_type": "execute_result"
    }
   ],
   "source": [
    "training_set[31671: 31671 + 100 + 1].shape"
   ]
  },
  {
   "cell_type": "code",
   "execution_count": 443,
   "metadata": {},
   "outputs": [
    {
     "data": {
      "text/plain": [
       "(1, 100, 10)"
      ]
     },
     "execution_count": 443,
     "metadata": {},
     "output_type": "execute_result"
    }
   ],
   "source": [
    "x.shape"
   ]
  },
  {
   "cell_type": "code",
   "execution_count": 444,
   "metadata": {},
   "outputs": [
    {
     "data": {
      "text/plain": [
       "(1, 100, 1)"
      ]
     },
     "execution_count": 444,
     "metadata": {},
     "output_type": "execute_result"
    }
   ],
   "source": [
    "y.shape"
   ]
  },
  {
   "cell_type": "code",
   "execution_count": 445,
   "metadata": {},
   "outputs": [
    {
     "data": {
      "text/plain": [
       "array([ 0.11871227])"
      ]
     },
     "execution_count": 445,
     "metadata": {},
     "output_type": "execute_result"
    }
   ],
   "source": [
    "y[0][0]"
   ]
  },
  {
   "cell_type": "code",
   "execution_count": 446,
   "metadata": {
    "collapsed": true
   },
   "outputs": [],
   "source": [
    "import os\n",
    "os.environ['CUDA_VISIBLE_DEVICES'] = '-1'\n",
    "import tensorflow as tf"
   ]
  },
  {
   "cell_type": "code",
   "execution_count": 509,
   "metadata": {
    "collapsed": true
   },
   "outputs": [],
   "source": [
    "tf.reset_default_graph()"
   ]
  },
  {
   "cell_type": "code",
   "execution_count": 510,
   "metadata": {
    "collapsed": true
   },
   "outputs": [],
   "source": [
    "NUMBER_NEU = 128\n",
    "N_IP = 10\n",
    "N_OP = 1\n",
    "STEPS = 10\n",
    "LR = 0.005\n",
    "ITER = 10000"
   ]
  },
  {
   "cell_type": "code",
   "execution_count": 511,
   "metadata": {
    "collapsed": true
   },
   "outputs": [],
   "source": [
    "#Placeholders\n",
    "x = tf.placeholder(dtype=tf.float32,shape=(None,STEPS,N_IP))\n",
    "y = tf.placeholder(dtype=tf.float32,shape=(None,STEPS,N_OP))\n",
    "hold_proba = tf.placeholder(dtype=tf.float32)"
   ]
  },
  {
   "cell_type": "code",
   "execution_count": 512,
   "metadata": {},
   "outputs": [],
   "source": [
    "cell_1 = tf.contrib.rnn.DropoutWrapper((tf.contrib.rnn.BasicLSTMCell(num_units=NUMBER_NEU,activation=tf.nn.relu)),input_keep_prob=hold_proba)\n",
    "cell_2 = tf.contrib.rnn.DropoutWrapper((tf.contrib.rnn.BasicLSTMCell(num_units=NUMBER_NEU,activation=tf.nn.relu)),input_keep_prob=hold_proba)\n",
    "final_cell = tf.contrib.rnn.OutputProjectionWrapper(tf.contrib.rnn.MultiRNNCell([cell_1,cell_2]),output_size=N_OP)"
   ]
  },
  {
   "cell_type": "code",
   "execution_count": 513,
   "metadata": {},
   "outputs": [],
   "source": [
    "output , states = tf.nn.dynamic_rnn(final_cell,inputs=x, dtype=tf.float32)"
   ]
  },
  {
   "cell_type": "code",
   "execution_count": 514,
   "metadata": {},
   "outputs": [],
   "source": [
    "loss = tf.reduce_mean(tf.square(output-y))\n",
    "optim = tf.train.AdamOptimizer(learning_rate=LR)\n",
    "train = optim.minimize(loss)\n",
    "init = tf.global_variables_initializer()\n",
    "saver = tf.train.Saver()"
   ]
  },
  {
   "cell_type": "code",
   "execution_count": 516,
   "metadata": {
    "scrolled": true
   },
   "outputs": [
    {
     "name": "stdout",
     "output_type": "stream",
     "text": [
      "At step 0 \tMSE : 0.0220306\n",
      "At step 100 \tMSE : 0.000697338\n",
      "At step 200 \tMSE : 0.00140382\n",
      "At step 300 \tMSE : 0.00571872\n",
      "At step 400 \tMSE : 0.000859667\n",
      "At step 500 \tMSE : 0.00155051\n",
      "At step 600 \tMSE : 0.00306969\n",
      "At step 700 \tMSE : 0.000786854\n",
      "At step 800 \tMSE : 0.00389771\n",
      "At step 900 \tMSE : 0.00478927\n",
      "At step 1000 \tMSE : 0.000257432\n",
      "At step 1100 \tMSE : 0.00373574\n",
      "At step 1200 \tMSE : 0.000719199\n",
      "At step 1300 \tMSE : 0.00342112\n",
      "At step 1400 \tMSE : 0.000280246\n",
      "At step 1500 \tMSE : 0.000591191\n",
      "At step 1600 \tMSE : 0.000152969\n",
      "At step 1700 \tMSE : 0.0171448\n",
      "At step 1800 \tMSE : 0.00043112\n",
      "At step 1900 \tMSE : 0.000380652\n",
      "At step 2000 \tMSE : 0.000235864\n",
      "At step 2100 \tMSE : 0.00166626\n",
      "At step 2200 \tMSE : 0.0021619\n",
      "At step 2300 \tMSE : 0.000540035\n",
      "At step 2400 \tMSE : 0.0014566\n",
      "At step 2500 \tMSE : 0.00236403\n",
      "At step 2600 \tMSE : 0.000222253\n",
      "At step 2700 \tMSE : 0.000744648\n",
      "At step 2800 \tMSE : 0.00031323\n",
      "At step 2900 \tMSE : 0.00235275\n",
      "At step 3000 \tMSE : 0.000135577\n",
      "At step 3100 \tMSE : 0.00108429\n",
      "At step 3200 \tMSE : 0.00925203\n",
      "At step 3300 \tMSE : 0.00157314\n",
      "At step 3400 \tMSE : 0.00274596\n",
      "At step 3500 \tMSE : 0.00483795\n",
      "At step 3600 \tMSE : 0.000350994\n",
      "At step 3700 \tMSE : 0.00286174\n",
      "At step 3800 \tMSE : 0.000405621\n",
      "At step 3900 \tMSE : 0.00137675\n",
      "At step 4000 \tMSE : 0.000354939\n",
      "At step 4100 \tMSE : 0.000296072\n",
      "At step 4200 \tMSE : 0.000207901\n",
      "At step 4300 \tMSE : 0.000108728\n",
      "At step 4400 \tMSE : 0.000381538\n",
      "At step 4500 \tMSE : 0.000360831\n",
      "At step 4600 \tMSE : 0.000113658\n",
      "At step 4700 \tMSE : 0.0011585\n",
      "At step 4800 \tMSE : 0.00314349\n",
      "At step 4900 \tMSE : 0.00154231\n",
      "At step 5000 \tMSE : 0.000157401\n",
      "At step 5100 \tMSE : 0.000972182\n",
      "At step 5200 \tMSE : 0.00144353\n",
      "At step 5300 \tMSE : 0.00419038\n",
      "At step 5400 \tMSE : 0.000406326\n",
      "At step 5500 \tMSE : 0.00155752\n",
      "At step 5600 \tMSE : 0.000342554\n",
      "At step 5700 \tMSE : 0.000555697\n",
      "At step 5800 \tMSE : 0.00015525\n",
      "At step 5900 \tMSE : 7.10747e-05\n",
      "At step 6000 \tMSE : 0.00044677\n",
      "At step 6100 \tMSE : 0.00229534\n",
      "At step 6200 \tMSE : 0.00612851\n",
      "At step 6300 \tMSE : 0.00133574\n",
      "At step 6400 \tMSE : 0.000630249\n",
      "At step 6500 \tMSE : 0.0106306\n",
      "At step 6600 \tMSE : 0.00378698\n",
      "At step 6700 \tMSE : 0.000518792\n",
      "At step 6800 \tMSE : 0.000348755\n",
      "At step 6900 \tMSE : 0.000870364\n",
      "At step 7000 \tMSE : 0.000962544\n",
      "At step 7100 \tMSE : 0.00967777\n",
      "At step 7200 \tMSE : 0.000722382\n",
      "At step 7300 \tMSE : 0.000139497\n",
      "At step 7400 \tMSE : 0.00297253\n",
      "At step 7500 \tMSE : 0.0118911\n",
      "At step 7600 \tMSE : 0.000439625\n",
      "At step 7700 \tMSE : 0.00100119\n",
      "At step 7800 \tMSE : 0.000271552\n",
      "At step 7900 \tMSE : 0.000636501\n",
      "At step 8000 \tMSE : 0.000340228\n",
      "At step 8100 \tMSE : 0.000215982\n",
      "At step 8200 \tMSE : 0.00290549\n",
      "At step 8300 \tMSE : 0.00225358\n",
      "At step 8400 \tMSE : 0.000317882\n",
      "At step 8500 \tMSE : 0.00144058\n",
      "At step 8600 \tMSE : 0.00318131\n",
      "At step 8700 \tMSE : 0.00026803\n",
      "At step 8800 \tMSE : 0.000241177\n",
      "At step 8900 \tMSE : 0.00926423\n",
      "At step 9000 \tMSE : 0.000417805\n",
      "At step 9100 \tMSE : 0.00194663\n",
      "At step 9200 \tMSE : 0.0041842\n",
      "At step 9300 \tMSE : 0.00109864\n",
      "At step 9400 \tMSE : 0.0037145\n",
      "At step 9500 \tMSE : 0.00113583\n",
      "At step 9600 \tMSE : 0.0014233\n",
      "At step 9700 \tMSE : 0.00164528\n",
      "At step 9800 \tMSE : 0.000147088\n",
      "At step 9900 \tMSE : 0.00261533\n"
     ]
    }
   ],
   "source": [
    "with tf.Session() as sess:\n",
    "    sess.run(init)\n",
    "    for i in range(ITER):\n",
    "        x_batch,y_batch = next_batch(training_set,steps=STEPS)\n",
    "        sess.run(train,feed_dict = {x:x_batch, y: y_batch, hold_proba:0.8})\n",
    "        if i % 100 == 0:\n",
    "            print(\"At step\",i,\"\\tMSE :\", sess.run(loss,feed_dict = {x:x_batch, y: y_batch,hold_proba:1.0}))\n",
    "    saver.save(sess, \"Temp/model\")"
   ]
  },
  {
   "cell_type": "code",
   "execution_count": 407,
   "metadata": {},
   "outputs": [
    {
     "name": "stdout",
     "output_type": "stream",
     "text": [
      "INFO:tensorflow:Restoring parameters from TEMP/model\n",
      "[array([ 0.        ,  1.        ,  0.        ,  0.06740443,  0.83823529,\n",
      "        0.8852459 ,  0.29090909,  0.01297103,  0.        ,  0.        ])]\n",
      "[array(None, dtype=object)]\n"
     ]
    },
    {
     "ename": "ValueError",
     "evalue": "cannot reshape array of size 10 into shape (1,10,10)",
     "output_type": "error",
     "traceback": [
      "\u001b[1;31m------------------------------------------------------------------\u001b[0m",
      "\u001b[1;31mValueError\u001b[0m                       Traceback (most recent call last)",
      "\u001b[1;32m<ipython-input-407-292c9c04fe9a>\u001b[0m in \u001b[0;36m<module>\u001b[1;34m()\u001b[0m\n\u001b[0;32m     13\u001b[0m     \u001b[1;32mfor\u001b[0m \u001b[0miteration\u001b[0m \u001b[1;32min\u001b[0m \u001b[0mrange\u001b[0m\u001b[1;33m(\u001b[0m\u001b[1;36m12\u001b[0m\u001b[1;33m)\u001b[0m\u001b[1;33m:\u001b[0m\u001b[1;33m\u001b[0m\u001b[0m\n\u001b[0;32m     14\u001b[0m         \u001b[0mprint\u001b[0m\u001b[1;33m(\u001b[0m\u001b[0mtrain_seed\u001b[0m\u001b[1;33m[\u001b[0m\u001b[1;33m-\u001b[0m\u001b[1;36m1\u001b[0m\u001b[1;33m:\u001b[0m\u001b[1;33m]\u001b[0m\u001b[1;33m)\u001b[0m\u001b[1;33m\u001b[0m\u001b[0m\n\u001b[1;32m---> 15\u001b[1;33m         \u001b[0mX_batch\u001b[0m \u001b[1;33m=\u001b[0m \u001b[0mnp\u001b[0m\u001b[1;33m.\u001b[0m\u001b[0marray\u001b[0m\u001b[1;33m(\u001b[0m\u001b[0mtrain_seed\u001b[0m\u001b[1;33m[\u001b[0m\u001b[1;33m-\u001b[0m\u001b[0mSTEPS\u001b[0m\u001b[1;33m:\u001b[0m\u001b[1;33m]\u001b[0m\u001b[1;33m)\u001b[0m\u001b[1;33m.\u001b[0m\u001b[0mreshape\u001b[0m\u001b[1;33m(\u001b[0m\u001b[1;36m1\u001b[0m\u001b[1;33m,\u001b[0m \u001b[0mSTEPS\u001b[0m\u001b[1;33m,\u001b[0m \u001b[1;36m10\u001b[0m\u001b[1;33m)\u001b[0m\u001b[1;33m\u001b[0m\u001b[0m\n\u001b[0m\u001b[0;32m     16\u001b[0m         \u001b[0my_pred\u001b[0m \u001b[1;33m=\u001b[0m \u001b[0msess\u001b[0m\u001b[1;33m.\u001b[0m\u001b[0mrun\u001b[0m\u001b[1;33m(\u001b[0m\u001b[0moutput\u001b[0m\u001b[1;33m,\u001b[0m \u001b[0mfeed_dict\u001b[0m\u001b[1;33m=\u001b[0m\u001b[1;33m{\u001b[0m\u001b[0mx\u001b[0m\u001b[1;33m:\u001b[0m \u001b[0mX_batch\u001b[0m\u001b[1;33m}\u001b[0m\u001b[1;33m)\u001b[0m\u001b[1;33m\u001b[0m\u001b[0m\n\u001b[0;32m     17\u001b[0m         \u001b[0mpred\u001b[0m\u001b[1;33m.\u001b[0m\u001b[0mappend\u001b[0m\u001b[1;33m(\u001b[0m\u001b[0my_pred\u001b[0m\u001b[1;33m[\u001b[0m\u001b[1;36m0\u001b[0m\u001b[1;33m,\u001b[0m \u001b[1;33m-\u001b[0m\u001b[1;36m1\u001b[0m\u001b[1;33m,\u001b[0m \u001b[1;36m0\u001b[0m\u001b[1;33m]\u001b[0m\u001b[1;33m)\u001b[0m\u001b[1;33m\u001b[0m\u001b[0m\n",
      "\u001b[1;31mValueError\u001b[0m: cannot reshape array of size 10 into shape (1,10,10)"
     ]
    }
   ],
   "source": [
    "# CODE HERE\n",
    "pred = []\n",
    "with tf.Session() as sess:\n",
    "    \n",
    "    # Use your Saver instance to restore your saved rnn time series model\n",
    "    saver.restore(sess, \"TEMP/model\")\n",
    "\n",
    "    # Create a numpy array for your genreative seed from the last 12 months of the \n",
    "    # training set data. Hint: Just use tail(12) and then pass it to an np.array\n",
    "    train_seed = list(training_set[-10:])\n",
    "    test_ind = 0\n",
    "    ## Now create a for loop that \n",
    "    for iteration in range(12):\n",
    "        print(train_seed[-1:])\n",
    "        X_batch = np.array(train_seed[-STEPS:]).reshape(1, STEPS, 10)\n",
    "        y_pred = sess.run(output, feed_dict={x: X_batch})\n",
    "        pred.append(y_pred[0, -1, 0])\n",
    "        train_seed.append(np.array(list(test_set[test_ind]).append(y_pred[0, -1, 0])))\n",
    "        test_ind+=1\n",
    "        "
   ]
  },
  {
   "cell_type": "code",
   "execution_count": 400,
   "metadata": {
    "scrolled": true
   },
   "outputs": [
    {
     "data": {
      "text/plain": [
       "array([[  0.00000000e+00,   0.00000000e+00,   0.00000000e+00,\n",
       "          1.49899396e-01,   8.67647059e-01,   6.72131148e-01,\n",
       "          3.09090909e-01,   5.33196616e-03,   0.00000000e+00,\n",
       "          0.00000000e+00],\n",
       "       [  0.00000000e+00,   0.00000000e+00,   1.00000000e+00,\n",
       "          1.42857143e-01,   8.82352941e-01,   7.21311475e-01,\n",
       "          3.27272727e-01,   7.51943946e-04,   0.00000000e+00,\n",
       "          0.00000000e+00],\n",
       "       [  0.00000000e+00,   0.00000000e+00,   1.00000000e+00,\n",
       "          1.37826962e-01,   8.82352941e-01,   7.54098361e-01,\n",
       "          3.27272727e-01,   2.27292147e-03,   0.00000000e+00,\n",
       "          0.00000000e+00],\n",
       "       [  0.00000000e+00,   0.00000000e+00,   1.00000000e+00,\n",
       "          1.13682093e-01,   8.82352941e-01,   7.86885246e-01,\n",
       "          3.27272727e-01,   3.79389900e-03,   0.00000000e+00,\n",
       "          0.00000000e+00],\n",
       "       [  0.00000000e+00,   0.00000000e+00,   1.00000000e+00,\n",
       "          1.19718310e-01,   8.82352941e-01,   8.03278689e-01,\n",
       "          3.27272727e-01,   5.31487653e-03,   0.00000000e+00,\n",
       "          0.00000000e+00],\n",
       "       [  0.00000000e+00,   1.00000000e+00,   0.00000000e+00,\n",
       "          1.07645875e-01,   8.82352941e-01,   8.19672131e-01,\n",
       "          3.27272727e-01,   2.29001111e-03,   0.00000000e+00,\n",
       "          0.00000000e+00],\n",
       "       [  0.00000000e+00,   0.00000000e+00,   1.00000000e+00,\n",
       "          1.12676056e-01,   8.82352941e-01,   8.36065574e-01,\n",
       "          3.27272727e-01,   2.29001111e-03,   0.00000000e+00,\n",
       "          0.00000000e+00],\n",
       "       [  0.00000000e+00,   0.00000000e+00,   1.00000000e+00,\n",
       "          8.04828974e-02,   8.67647059e-01,   8.68852459e-01,\n",
       "          3.09090909e-01,   5.34905580e-03,   0.00000000e+00,\n",
       "          0.00000000e+00],\n",
       "       [  0.00000000e+00,   1.00000000e+00,   0.00000000e+00,\n",
       "          6.23742455e-02,   8.52941176e-01,   8.68852459e-01,\n",
       "          3.09090909e-01,   6.10099974e-03,   0.00000000e+00,\n",
       "          0.00000000e+00],\n",
       "       [  0.00000000e+00,   1.00000000e+00,   0.00000000e+00,\n",
       "          6.74044266e-02,   8.38235294e-01,   8.85245902e-01,\n",
       "          2.90909091e-01,   1.29710331e-02,   0.00000000e+00,\n",
       "          0.00000000e+00]])"
      ]
     },
     "execution_count": 400,
     "metadata": {},
     "output_type": "execute_result"
    }
   ],
   "source": [
    "training_set[-10:]"
   ]
  },
  {
   "cell_type": "code",
   "execution_count": null,
   "metadata": {
    "collapsed": true
   },
   "outputs": [],
   "source": []
  }
 ],
 "metadata": {
  "kernelspec": {
   "display_name": "Python 3",
   "language": "python",
   "name": "python3"
  },
  "language_info": {
   "codemirror_mode": {
    "name": "ipython",
    "version": 3
   },
   "file_extension": ".py",
   "mimetype": "text/x-python",
   "name": "python",
   "nbconvert_exporter": "python",
   "pygments_lexer": "ipython3",
   "version": "3.6.3"
  }
 },
 "nbformat": 4,
 "nbformat_minor": 2
}
